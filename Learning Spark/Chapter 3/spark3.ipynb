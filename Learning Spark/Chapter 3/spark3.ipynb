{
 "cells": [
  {
   "cell_type": "markdown",
   "id": "f1edd737-fd75-4c2a-9e53-cead9f7c537d",
   "metadata": {},
   "source": [
    "<h1 style='font-size:40px'> Apache Spark's Structured APIs</h1>"
   ]
  },
  {
   "cell_type": "markdown",
   "id": "4d8f74c0-be01-4c70-9c4d-fe36a2380428",
   "metadata": {},
   "source": [
    "<h2 style='font-size:30px'> Key Merits and Beneftis</h2>"
   ]
  },
  {
   "cell_type": "code",
   "execution_count": 7,
   "id": "27d91ff8-8ca5-40db-9a23-d76605e46a3d",
   "metadata": {},
   "outputs": [
    {
     "name": "stdout",
     "output_type": "stream",
     "text": [
      "+------+---+\n",
      "|  name|age|\n",
      "+------+---+\n",
      "|Brooke| 20|\n",
      "| Denny| 31|\n",
      "| Jules| 30|\n",
      "|    TD| 35|\n",
      "|Brooke| 25|\n",
      "+------+---+\n",
      "\n"
     ]
    }
   ],
   "source": [
    "# Criando o nosso primeiro DataFrame dentro do Spark.\n",
    "# Vamos aproveitar a situação e fazer algumas operações.\n",
    "from pyspark.sql import SparkSession\n",
    "from pyspark.sql.functions import avg\n",
    "spark = SparkSession.builder.appName('Chapter3').getOrCreate()\n",
    "\n",
    "# O método createDataFrame demanda uma lista de tuplas para que cada linha seja construída.\n",
    "# Como segundo argumento, uma lista com o nome das colunas pode ser passada.\n",
    "data_df = spark.createDataFrame([('Brooke', 20), ('Denny', 31), ('Jules', 30),\n",
    "                                ('TD', 35), ('Brooke', 25)],['name', 'age'])\n",
    "\n",
    "data_df.show()"
   ]
  },
  {
   "cell_type": "code",
   "execution_count": 9,
   "id": "921361cf-a4c2-4561-9a91-ccea1d0cbadd",
   "metadata": {},
   "outputs": [
    {
     "name": "stdout",
     "output_type": "stream",
     "text": [
      "+------+--------+\n",
      "|  name|avg(age)|\n",
      "+------+--------+\n",
      "|Brooke|    22.5|\n",
      "| Denny|    31.0|\n",
      "| Jules|    30.0|\n",
      "|    TD|    35.0|\n",
      "+------+--------+\n",
      "\n"
     ]
    }
   ],
   "source": [
    "# Agrupando os dados conforme o nome e extraindo a idade média.\n",
    "\n",
    "# A sintaxe é um pouco diferente da do pandas, o método agg com um outro método de agregação como argumento deve acompahar 'groupBy'.\n",
    "data_df.groupBy('name').agg(avg('age')).show()"
   ]
  },
  {
   "cell_type": "markdown",
   "id": "19301f1b-8b57-4a7d-a9f7-420ae506349b",
   "metadata": {},
   "source": [
    "<h2 style='font-size:30px'> The DataFrame API</h2>\n",
    "<div> \n",
    "    <ul style='font-size:20px'> \n",
    "        <li> \n",
    "            Os DataFrames do PySpark são como os do pandas. Têm estrutura de tabelas e permitem a nós fazermos operações sobre os seus dados.\n",
    "        </li>\n",
    "    </ul>\n",
    "</div>"
   ]
  },
  {
   "cell_type": "markdown",
   "id": "f2525b50-16a9-4aa6-b1b2-6fdf8575b42f",
   "metadata": {},
   "source": [
    "<h3 style='font-size:30px;font-style:italic'> Spark's Basic Data Types</h3>\n",
    "<div> \n",
    "    <ul style='font-size:20px'> \n",
    "        <li> \n",
    "            O Spark possui uma série de tipos de dados que podem ser designados às colunas dos DataFrames.\n",
    "        </li>\n",
    "    </ul>\n",
    "</div>"
   ]
  },
  {
   "cell_type": "markdown",
   "id": "70dda7a3-648b-4bd4-9112-ac86baadfbb8",
   "metadata": {},
   "source": [
    "<center> \n",
    "    <img src='data_types1.png'>\n",
    "</center>"
   ]
  },
  {
   "cell_type": "markdown",
   "id": "13d41b5f-7817-4834-acba-be9fbf2d4fc5",
   "metadata": {},
   "source": [
    "<h3 style='font-size:30px;font-style:italic'> Schemas and Creating DataFrames</h3>\n",
    "<div> \n",
    "    <ul style='font-size:20px'> \n",
    "        <li> \n",
    "            O <em> schema</em> de um DataFrame é a relação do nome de suas colunas com os seus respectivos tipos de dados.\n",
    "        </li>\n",
    "        <li> \n",
    "            O Spark é capaz de inferir o schema de uma tabela, mas isso pode ser demorado e demandar uma alta capacidade de processamento do computador. Por isso, é recomendável que nós façamos essa tarefa.\n",
    "        </li>\n",
    "    </ul>\n",
    "</div>"
   ]
  },
  {
   "cell_type": "code",
   "execution_count": 15,
   "id": "7a75ac1e-3b1d-4e9f-8e3c-8dc2f5258ff8",
   "metadata": {},
   "outputs": [],
   "source": [
    "# Vamos definir o schema do DataFrame que iremos construir.\n",
    "\n",
    "# Do jeito mais formal. O jeito de se construir lembra o das Pipelines do scikit-learn.\n",
    "from pyspark.sql.types import *\n",
    "schema = StructType([\n",
    "         StructField('author', StringType(), False),\n",
    "         StructField('title', StringType(), False),\n",
    "        StructField('pages', IntegerType(), False)])"
   ]
  },
  {
   "cell_type": "code",
   "execution_count": 24,
   "id": "460106dc-e6db-47a8-a0a9-3fc5a89716d9",
   "metadata": {},
   "outputs": [
    {
     "name": "stdout",
     "output_type": "stream",
     "text": [
      "root\n",
      " |-- Id: integer (nullable = true)\n",
      " |-- First: string (nullable = true)\n",
      " |-- Last: string (nullable = true)\n",
      " |-- URL: string (nullable = true)\n",
      " |-- Published: string (nullable = true)\n",
      " |-- Hits: integer (nullable = true)\n",
      " |-- Campaigns: array (nullable = true)\n",
      " |    |-- element: string (containsNull = true)\n",
      "\n",
      "+---+---------+-----+-------------------+---------+-----+-------------------+\n",
      "| Id|    First| Last|                URL|Published| Hits|          Campaigns|\n",
      "+---+---------+-----+-------------------+---------+-----+-------------------+\n",
      "|  1|    Jules|Damji|https://www.oi1.com| 1/4/2016| 4535|[twitter, LinkedIn]|\n",
      "|  2|   Brooke|Wenig|     htps://oi2.com| 5/5/2018| 8908|[twitter, LinkedIn]|\n",
      "|  3|Tathagata|  Das|     htps://oi3.com|5/12/2018|10568|      [twitter, FB]|\n",
      "+---+---------+-----+-------------------+---------+-----+-------------------+\n",
      "\n"
     ]
    },
    {
     "data": {
      "text/plain": [
       "(None, None)"
      ]
     },
     "execution_count": 24,
     "metadata": {},
     "output_type": "execute_result"
    }
   ],
   "source": [
    "# Do jeito mais simples.\n",
    "schema = '''`Id` INT, `First` STRING, `Last` STRING, `URL` STRING, \n",
    "        `Published` STRING, `Hits` INT, `Campaigns` ARRAY<STRING>'''\n",
    "data=[[1, 'Jules', 'Damji', 'https://www.oi1.com', '1/4/2016', 4535, ['twitter', 'LinkedIn']],\n",
    "    [2, 'Brooke', 'Wenig', 'htps://oi2.com', '5/5/2018', 8908, ['twitter', 'LinkedIn']],\n",
    "     [3, 'Tathagata', 'Das', 'htps://oi3.com', '5/12/2018', 10568,['twitter', 'FB']]]\n",
    "\n",
    "# Criando o DataFrame.\n",
    "blogs_df = spark.createDataFrame(data, schema)\n",
    "\n",
    "# Pelo printSchema, é possível enxergar que as colunas têm o nome e o tipo de dados desejados.\n",
    "blogs_df.printSchema(),blogs_df.show()"
   ]
  },
  {
   "cell_type": "markdown",
   "id": "8940d31b-68e6-4741-8d1b-0cb2581a57f1",
   "metadata": {},
   "source": [
    "<h3 style='font-size:30px;font-style:italic'> Columns and Expressions </h3>\n",
    "<div> \n",
    "    <ul style='font-size:20px'> \n",
    "        <li> \n",
    "            Assim como no pandas e no SQL, os DataFrames Spark admitem que o usuário faça expressões com as suas colunas.\n",
    "        </li>\n",
    "    </ul>\n",
    "</div>"
   ]
  },
  {
   "cell_type": "code",
   "execution_count": 54,
   "id": "1985ce64-2c75-48d6-8714-5f40f63e460f",
   "metadata": {},
   "outputs": [
    {
     "name": "stdout",
     "output_type": "stream",
     "text": [
      "+---------+-------------+\n",
      "|    First|(Hits > 1000)|\n",
      "+---------+-------------+\n",
      "|    Jules|         true|\n",
      "|   Brooke|         true|\n",
      "|Tathagata|         true|\n",
      "+---------+-------------+\n",
      "\n",
      "+----------+\n",
      "|(Hits / 2)|\n",
      "+----------+\n",
      "|    2267.5|\n",
      "|    4454.0|\n",
      "|    5284.0|\n",
      "+----------+\n",
      "\n",
      "+----------+\n",
      "|(Hits / 2)|\n",
      "+----------+\n",
      "|    2267.5|\n",
      "|    4454.0|\n",
      "|    5284.0|\n",
      "+----------+\n",
      "\n",
      "+---+---------+-----+-------------------+---------+-----+-------------------+------------+\n",
      "| Id|    First| Last|                URL|Published| Hits|          Campaigns|   Full Name|\n",
      "+---+---------+-----+-------------------+---------+-----+-------------------+------------+\n",
      "|  1|    Jules|Damji|https://www.oi1.com| 1/4/2016| 4535|[twitter, LinkedIn]|  JulesDamji|\n",
      "|  2|   Brooke|Wenig|     htps://oi2.com| 5/5/2018| 8908|[twitter, LinkedIn]| BrookeWenig|\n",
      "|  3|Tathagata|  Das|     htps://oi3.com|5/12/2018|10568|      [twitter, FB]|TathagataDas|\n",
      "+---+---------+-----+-------------------+---------+-----+-------------------+------------+\n",
      "\n",
      "+---+---------+-----+-------------------+---------+-----+-------------------+\n",
      "| Id|    First| Last|                URL|Published| Hits|          Campaigns|\n",
      "+---+---------+-----+-------------------+---------+-----+-------------------+\n",
      "|  3|Tathagata|  Das|     htps://oi3.com|5/12/2018|10568|      [twitter, FB]|\n",
      "|  2|   Brooke|Wenig|     htps://oi2.com| 5/5/2018| 8908|[twitter, LinkedIn]|\n",
      "|  1|    Jules|Damji|https://www.oi1.com| 1/4/2016| 4535|[twitter, LinkedIn]|\n",
      "+---+---------+-----+-------------------+---------+-----+-------------------+\n",
      "\n"
     ]
    }
   ],
   "source": [
    "from pyspark.sql.functions import *\n",
    "\n",
    "# Os blogueiros têm mais de 1000 hits?\n",
    "blogs_df.select('First',expr('Hits >1000')).show()\n",
    "\n",
    "# Divida 'Hits' por 2;\n",
    "blogs_df.select(expr('Hits /2')).show()\n",
    "\n",
    "# Podemos fazer a mesma operação com o objeto 'col'.\n",
    "blogs_df.select(col('Hits')/2).show()\n",
    "\n",
    "# Uma nova coluna com nome e sobrenome do blogueiro.\n",
    "blogs_df.withColumn('Full Name', concat(expr('First'), expr('Last'))).show()\n",
    "\n",
    "# Reordenando o DF na ordem inversa dos ID's.\n",
    "blogs_df.sort(col('Id').desc()).show()"
   ]
  },
  {
   "cell_type": "markdown",
   "id": "92470437-789a-44a8-bf9f-8816d9a3ad0c",
   "metadata": {},
   "source": [
    "<h3 style='font-size:30px;font-style:italic'> Rows </h3>\n",
    "<div> \n",
    "    <ul style='font-size:20px'> \n",
    "        <li> \n",
    "           Row é um objeto do pyspark que representa uma linha de DataFrame. Pode conter dados de diversas espécies.\n",
    "        </li>\n",
    "    </ul>\n",
    "</div>"
   ]
  },
  {
   "cell_type": "code",
   "execution_count": 57,
   "id": "58acfecd-373e-4d74-830e-bb6ba96cf4fd",
   "metadata": {},
   "outputs": [
    {
     "data": {
      "text/plain": [
       "'Reynold'"
      ]
     },
     "execution_count": 57,
     "metadata": {},
     "output_type": "execute_result"
    }
   ],
   "source": [
    "from pyspark.sql import Row\n",
    "blog_row = Row(6, 'Reynold', 'Xin', 'htps://oi4.com', 255568, '3/2/2015', ['twitter', 'LinkedIn'])\n",
    "\n",
    "# Podemos acessar o valor de uma das colunas da linha por meio de seu íindice.\n",
    "blog_row[1]"
   ]
  },
  {
   "cell_type": "code",
   "execution_count": 61,
   "id": "3b7d5386-f5b4-4d23-b453-555d574b3bf1",
   "metadata": {},
   "outputs": [
    {
     "name": "stdout",
     "output_type": "stream",
     "text": [
      "+-------+---------+---+\n",
      "|  First|     Last| ID|\n",
      "+-------+---------+---+\n",
      "| Felipe|    Veiga|  1|\n",
      "|   Luiz|   Villar|  2|\n",
      "|Eduardo|Rodrigues|  3|\n",
      "+-------+---------+---+\n",
      "\n"
     ]
    }
   ],
   "source": [
    "# Uma coleção de Rows pode dar origem a um DataFrame.\n",
    "rows = [Row('Felipe', 'Veiga', 1),Row('Luiz', 'Villar', 2), Row('Eduardo', 'Rodrigues', 3)]\n",
    "spark.createDataFrame(rows, '`First`STRING, `Last`STRING, `ID`INT').show()"
   ]
  },
  {
   "cell_type": "markdown",
   "id": "381cd32c-2fd6-441e-ba3d-65070c0db90e",
   "metadata": {},
   "source": [
    "<h3 style='font-size:30px;font-style:italic'> Common DataFrame Operations</h3>\n",
    "<div> \n",
    "    <ul style='font-size:20px'> \n",
    "        <li> \n",
    "        </li>\n",
    "    </ul>\n",
    "</div>"
   ]
  },
  {
   "cell_type": "markdown",
   "id": "a3ee1659-93f5-43d6-8886-418e45015ac5",
   "metadata": {},
   "source": [
    "<p style='color:red'> Common DataFrame Operations"
   ]
  },
  {
   "cell_type": "markdown",
   "id": "16733c68-612d-4e91-b2e8-d9a0e67aa3bd",
   "metadata": {},
   "source": [
    "<a href='https://databricks.com/notebooks/gallery/SanFranciscoFireCallsAnalysis.html'> Link do dataset de chamados de incêndio</a>"
   ]
  }
 ],
 "metadata": {
  "kernelspec": {
   "display_name": "Python 3 (ipykernel)",
   "language": "python",
   "name": "python3"
  },
  "language_info": {
   "codemirror_mode": {
    "name": "ipython",
    "version": 3
   },
   "file_extension": ".py",
   "mimetype": "text/x-python",
   "name": "python",
   "nbconvert_exporter": "python",
   "pygments_lexer": "ipython3",
   "version": "3.8.10"
  }
 },
 "nbformat": 4,
 "nbformat_minor": 5
}
