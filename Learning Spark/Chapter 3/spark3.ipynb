{
 "cells": [
  {
   "cell_type": "markdown",
   "id": "f1edd737-fd75-4c2a-9e53-cead9f7c537d",
   "metadata": {},
   "source": [
    "<h1 style='font-size:40px'> Apache Spark's Structured APIs</h1>"
   ]
  },
  {
   "cell_type": "markdown",
   "id": "4d8f74c0-be01-4c70-9c4d-fe36a2380428",
   "metadata": {},
   "source": [
    "<h2 style='font-size:30px'> Key Merits and Beneftis</h2>"
   ]
  },
  {
   "cell_type": "code",
   "execution_count": 7,
   "id": "27d91ff8-8ca5-40db-9a23-d76605e46a3d",
   "metadata": {},
   "outputs": [
    {
     "name": "stdout",
     "output_type": "stream",
     "text": [
      "+------+---+\n",
      "|  name|age|\n",
      "+------+---+\n",
      "|Brooke| 20|\n",
      "| Denny| 31|\n",
      "| Jules| 30|\n",
      "|    TD| 35|\n",
      "|Brooke| 25|\n",
      "+------+---+\n",
      "\n"
     ]
    }
   ],
   "source": [
    "# Criando o nosso primeiro DataFrame dentro do Spark.\n",
    "# Vamos aproveitar a situação e fazer algumas operações.\n",
    "from pyspark.sql import SparkSession\n",
    "from pyspark.sql.functions import avg\n",
    "spark = SparkSession.builder.appName('Chapter3').getOrCreate()\n",
    "\n",
    "# O método createDataFrame demanda uma lista de tuplas para que cada linha seja construída.\n",
    "# Como segundo argumento, uma lista com o nome das colunas pode ser passada.\n",
    "data_df = spark.createDataFrame([('Brooke', 20), ('Denny', 31), ('Jules', 30),\n",
    "                                ('TD', 35), ('Brooke', 25)],['name', 'age'])\n",
    "\n",
    "data_df.show()"
   ]
  },
  {
   "cell_type": "code",
   "execution_count": 9,
   "id": "921361cf-a4c2-4561-9a91-ccea1d0cbadd",
   "metadata": {},
   "outputs": [
    {
     "name": "stdout",
     "output_type": "stream",
     "text": [
      "+------+--------+\n",
      "|  name|avg(age)|\n",
      "+------+--------+\n",
      "|Brooke|    22.5|\n",
      "| Denny|    31.0|\n",
      "| Jules|    30.0|\n",
      "|    TD|    35.0|\n",
      "+------+--------+\n",
      "\n"
     ]
    }
   ],
   "source": [
    "# Agrupando os dados conforme o nome e extraindo a idade média.\n",
    "\n",
    "# A sintaxe é um pouco diferente da do pandas, o método agg com um outro método de agregação como argumento deve acompahar 'groupBy'.\n",
    "data_df.groupBy('name').agg(avg('age')).show()"
   ]
  },
  {
   "cell_type": "markdown",
   "id": "19301f1b-8b57-4a7d-a9f7-420ae506349b",
   "metadata": {},
   "source": [
    "<h2 style='font-size:30px'> The DataFrame API</h2>\n",
    "<div> \n",
    "    <ul style='font-size:20px'> \n",
    "        <li> \n",
    "            Os DataFrames do PySpark são como os do pandas. Têm estrutura de tabelas e permitem a nós fazermos operações sobre os seus dados.\n",
    "        </li>\n",
    "    </ul>\n",
    "</div>"
   ]
  },
  {
   "cell_type": "markdown",
   "id": "f2525b50-16a9-4aa6-b1b2-6fdf8575b42f",
   "metadata": {},
   "source": [
    "<h3 style='font-size:30px;font-style:italic'> Spark's Basic Data Types</h3>\n",
    "<div> \n",
    "    <ul style='font-size:20px'> \n",
    "        <li> \n",
    "            O Spark possui uma série de tipos de dados que podem ser designados às colunas dos DataFrames.\n",
    "        </li>\n",
    "    </ul>\n",
    "</div>"
   ]
  },
  {
   "cell_type": "markdown",
   "id": "70dda7a3-648b-4bd4-9112-ac86baadfbb8",
   "metadata": {},
   "source": [
    "<center> \n",
    "    <img src='data_types1.png'>\n",
    "</center>"
   ]
  },
  {
   "cell_type": "markdown",
   "id": "13d41b5f-7817-4834-acba-be9fbf2d4fc5",
   "metadata": {},
   "source": [
    "<h3 style='font-size:30px;font-style:italic'> Schemas and Creating DataFrames</h3>\n",
    "<div> \n",
    "    <ul style='font-size:20px'> \n",
    "        <li> \n",
    "            O <em> schema</em> de um DataFrame é a relação do nome de suas colunas com os seus respectivos tipos de dados.\n",
    "        </li>\n",
    "        <li> \n",
    "            O Spark é capaz de inferir o schema de uma tabela, mas isso pode ser demorado e demandar uma alta capacidade de processamento do computador. Por isso, é recomendável que nós façamos essa tarefa.\n",
    "        </li>\n",
    "    </ul>\n",
    "</div>"
   ]
  },
  {
   "cell_type": "code",
   "execution_count": null,
   "id": "7a75ac1e-3b1d-4e9f-8e3c-8dc2f5258ff8",
   "metadata": {},
   "outputs": [],
   "source": []
  },
  {
   "cell_type": "markdown",
   "id": "a3ee1659-93f5-43d6-8886-418e45015ac5",
   "metadata": {},
   "source": [
    "<p style='color:red'> Two ways to define a schema (fazer o código com ambas as abordagens)"
   ]
  }
 ],
 "metadata": {
  "kernelspec": {
   "display_name": "Python 3 (ipykernel)",
   "language": "python",
   "name": "python3"
  },
  "language_info": {
   "codemirror_mode": {
    "name": "ipython",
    "version": 3
   },
   "file_extension": ".py",
   "mimetype": "text/x-python",
   "name": "python",
   "nbconvert_exporter": "python",
   "pygments_lexer": "ipython3",
   "version": "3.8.10"
  }
 },
 "nbformat": 4,
 "nbformat_minor": 5
}
