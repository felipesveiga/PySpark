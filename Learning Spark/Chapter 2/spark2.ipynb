{
 "cells": [
  {
   "cell_type": "markdown",
   "id": "bc8cdbac-f435-4e76-94a1-c628e683ac7a",
   "metadata": {},
   "source": [
    "<p style='color:red'> Página 24 (aprendendo a mexer no shell do Spark)</p>"
   ]
  }
 ],
 "metadata": {
  "kernelspec": {
   "display_name": "Python 3 (ipykernel)",
   "language": "python",
   "name": "python3"
  },
  "language_info": {
   "codemirror_mode": {
    "name": "ipython",
    "version": 3
   },
   "file_extension": ".py",
   "mimetype": "text/x-python",
   "name": "python",
   "nbconvert_exporter": "python",
   "pygments_lexer": "ipython3",
   "version": "3.8.10"
  }
 },
 "nbformat": 4,
 "nbformat_minor": 5
}
