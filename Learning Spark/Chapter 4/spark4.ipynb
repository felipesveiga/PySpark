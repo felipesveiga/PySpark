{
 "cells": [
  {
   "cell_type": "markdown",
   "id": "d0efbed1-f2d7-4348-8e01-5c1c7d197b05",
   "metadata": {},
   "source": [
    "<h1 style='font-size:40px'>Spark SQL and DataFrames: Introduction to Built-in Data Sources</h1>"
   ]
  },
  {
   "cell_type": "markdown",
   "id": "b5773869-f33d-4465-8e64-acea7a6da47a",
   "metadata": {},
   "source": [
    "<h2 style='font-size:30px'> Using Spark SQL in Spark Applications</h2>\n",
    "<div> \n",
    "    <ul style='font-size:20px'> \n",
    "        <li> \n",
    "            Neste capítulo, nós ainda lidaremos com outras formas de manipularmos DataFrames no Spark.\n",
    "        </li>\n",
    "        <li> \n",
    "            Uma funcionalidade que não foi explorada no capítulo anterior é a de se fazer queries SQL nos DF's. Basta criarmos uma View Temporária.\n",
    "        </li>\n",
    "    </ul>\n",
    "</div>"
   ]
  },
  {
   "cell_type": "code",
   "execution_count": 1,
   "id": "37986289-ecd8-4fe4-8502-1f33ad26dae5",
   "metadata": {},
   "outputs": [
    {
     "name": "stderr",
     "output_type": "stream",
     "text": [
      "22/06/01 19:33:08 WARN Utils: Your hostname, veiga-Inspiron resolves to a loopback address: 127.0.1.1; using 192.168.15.21 instead (on interface wlp7s0)\n",
      "22/06/01 19:33:08 WARN Utils: Set SPARK_LOCAL_IP if you need to bind to another address\n",
      "WARNING: An illegal reflective access operation has occurred\n",
      "WARNING: Illegal reflective access by org.apache.spark.unsafe.Platform (file:/home/veiga/.local/lib/python3.8/site-packages/pyspark/jars/spark-unsafe_2.12-3.2.1.jar) to constructor java.nio.DirectByteBuffer(long,int)\n",
      "WARNING: Please consider reporting this to the maintainers of org.apache.spark.unsafe.Platform\n",
      "WARNING: Use --illegal-access=warn to enable warnings of further illegal reflective access operations\n",
      "WARNING: All illegal access operations will be denied in a future release\n",
      "Using Spark's default log4j profile: org/apache/spark/log4j-defaults.properties\n",
      "Setting default log level to \"WARN\".\n",
      "To adjust logging level use sc.setLogLevel(newLevel). For SparkR, use setLogLevel(newLevel).\n",
      "22/06/01 19:33:09 WARN NativeCodeLoader: Unable to load native-hadoop library for your platform... using builtin-java classes where applicable\n"
     ]
    }
   ],
   "source": [
    "from pyspark.sql import SparkSession\n",
    "\n",
    "spark = SparkSession.builder.appName('Chapter 4').getOrCreate()"
   ]
  },
  {
   "cell_type": "code",
   "execution_count": 16,
   "id": "4afde762-5bbd-4769-a20b-cfc8b2b63097",
   "metadata": {},
   "outputs": [
    {
     "name": "stderr",
     "output_type": "stream",
     "text": [
      "                                                                                \r"
     ]
    }
   ],
   "source": [
    "# Iremos trabalhar com um dataset sobre vôos de avião.\n",
    "df = spark.read.csv('departuredelays.csv', inferSchema=True, header=True, samplingRatio=0.2)\n",
    "\n",
    "# Montando uma view temporária do DataFrame (é com ela que montaremos as nossas queries).\n",
    "df.createOrReplaceTempView('us_delay_flights_tbl')"
   ]
  },
  {
   "cell_type": "code",
   "execution_count": 18,
   "id": "89728cd7-fdd9-4580-b096-9f0db947db26",
   "metadata": {},
   "outputs": [
    {
     "name": "stdout",
     "output_type": "stream",
     "text": [
      "+---+-------+-----+--------+------+-----------+\n",
      "|_c0|   date|delay|distance|origin|destination|\n",
      "+---+-------+-----+--------+------+-----------+\n",
      "|  0|1011245|    6|     602|   ABE|        ATL|\n",
      "|  1|1020600|   -8|     369|   ABE|        DTW|\n",
      "|  2|1021245|   -2|     602|   ABE|        ATL|\n",
      "|  3|1020605|   -4|     602|   ABE|        ATL|\n",
      "|  4|1031245|   -4|     602|   ABE|        ATL|\n",
      "|  5|1030605|    0|     602|   ABE|        ATL|\n",
      "|  6|1041243|   10|     602|   ABE|        ATL|\n",
      "|  7|1040605|   28|     602|   ABE|        ATL|\n",
      "|  8|1051245|   88|     602|   ABE|        ATL|\n",
      "|  9|1050605|    9|     602|   ABE|        ATL|\n",
      "| 10|1061215|   -6|     602|   ABE|        ATL|\n",
      "| 11|1061725|   69|     602|   ABE|        ATL|\n",
      "| 12|1061230|    0|     369|   ABE|        DTW|\n",
      "| 13|1060625|   -3|     602|   ABE|        ATL|\n",
      "| 14|1070600|    0|     369|   ABE|        DTW|\n",
      "| 15|1071725|    0|     602|   ABE|        ATL|\n",
      "| 16|1071230|    0|     369|   ABE|        DTW|\n",
      "| 17|1070625|    0|     602|   ABE|        ATL|\n",
      "| 18|1071219|    0|     569|   ABE|        ORD|\n",
      "| 19|1080600|    0|     369|   ABE|        DTW|\n",
      "+---+-------+-----+--------+------+-----------+\n",
      "only showing top 20 rows\n",
      "\n"
     ]
    },
    {
     "name": "stderr",
     "output_type": "stream",
     "text": [
      "22/06/01 19:47:01 WARN CSVHeaderChecker: CSV header does not conform to the schema.\n",
      " Header: , date, delay, distance, origin, destination\n",
      " Schema: _c0, date, delay, distance, origin, destination\n",
      "Expected: _c0 but found: \n",
      "CSV file: file:///home/veiga/Documents/Python/PySpark/Learning%20Spark/Chapter%204/departuredelays.csv\n"
     ]
    }
   ],
   "source": [
    "spark.sql('SELECT * FROM us_delay_flights_tbl').show()"
   ]
  },
  {
   "cell_type": "markdown",
   "id": "62ed85b4-cdc5-4c74-ab2b-b90cd21e4fb6",
   "metadata": {},
   "source": [
    "<p style='color:red'> Trecho grifado página 86"
   ]
  }
 ],
 "metadata": {
  "kernelspec": {
   "display_name": "Python 3 (ipykernel)",
   "language": "python",
   "name": "python3"
  },
  "language_info": {
   "codemirror_mode": {
    "name": "ipython",
    "version": 3
   },
   "file_extension": ".py",
   "mimetype": "text/x-python",
   "name": "python",
   "nbconvert_exporter": "python",
   "pygments_lexer": "ipython3",
   "version": "3.8.10"
  }
 },
 "nbformat": 4,
 "nbformat_minor": 5
}
