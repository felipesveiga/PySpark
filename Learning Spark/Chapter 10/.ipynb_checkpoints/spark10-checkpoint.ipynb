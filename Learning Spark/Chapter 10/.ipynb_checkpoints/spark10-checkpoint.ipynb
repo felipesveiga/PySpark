{
 "cells": [
  {
   "cell_type": "markdown",
   "id": "8ea9a8d0-1821-44d4-9503-9954cd06c721",
   "metadata": {},
   "source": [
    "<h1 style='font-size:40px'> Machine Learning with MLlib</h1>"
   ]
  },
  {
   "cell_type": "markdown",
   "id": "cecd2507-0d32-42fe-9053-e59ac82fb1f1",
   "metadata": {},
   "source": [
    "<p style='color:red'> Why Spark For Machine Learning?"
   ]
  }
 ],
 "metadata": {
  "kernelspec": {
   "display_name": "Python 3 (ipykernel)",
   "language": "python",
   "name": "python3"
  },
  "language_info": {
   "codemirror_mode": {
    "name": "ipython",
    "version": 3
   },
   "file_extension": ".py",
   "mimetype": "text/x-python",
   "name": "python",
   "nbconvert_exporter": "python",
   "pygments_lexer": "ipython3",
   "version": "3.8.10"
  }
 },
 "nbformat": 4,
 "nbformat_minor": 5
}
