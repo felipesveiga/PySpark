{
 "cells": [
  {
   "cell_type": "markdown",
   "id": "8ea9a8d0-1821-44d4-9503-9954cd06c721",
   "metadata": {},
   "source": [
    "<h1 style='font-size:40px'> Machine Learning with MLlib</h1>\n",
    "<div> \n",
    "    <ul style='font-size:20px'> \n",
    "        <li> \n",
    "            Iremos aprender a utilizar a spark.ml com um dataset sobre aluguéis do Airbnb em São Francisco.  \n",
    "        </li>\n",
    "    </ul>\n",
    "</div>"
   ]
  },
  {
   "cell_type": "markdown",
   "id": "5903a38d-a5df-4b9f-8ea8-a492d746a39c",
   "metadata": {},
   "source": [
    "<h2 style='font-size:30px'> Data Ingestion and Exploration</h2>"
   ]
  },
  {
   "cell_type": "code",
   "execution_count": 2,
   "id": "63e7d719-9703-48d9-8064-ea57e7e8fb7c",
   "metadata": {},
   "outputs": [],
   "source": [
    "import pandas as pd\n",
    "df = pd.read_csv('https://raw.githubusercontent.com/databricks/LearningSparkV2/master/databricks-datasets/learning-spark-v2/sf-airbnb/sf-airbnb.csv',\n",
    "                usecols=['neighbourhood', 'room_type', 'bedrooms', 'bathrooms', 'number_of_reviews', 'price'])"
   ]
  },
  {
   "cell_type": "code",
   "execution_count": 4,
   "id": "65b0bdd6-1afc-4b34-bf03-e0cddb21543f",
   "metadata": {
    "collapsed": true,
    "jupyter": {
     "outputs_hidden": true
    },
    "tags": []
   },
   "outputs": [
    {
     "name": "stderr",
     "output_type": "stream",
     "text": [
      "22/06/14 12:49:51 WARN Utils: Your hostname, veiga-Inspiron resolves to a loopback address: 127.0.1.1; using 192.168.15.21 instead (on interface wlp7s0)\n",
      "22/06/14 12:49:51 WARN Utils: Set SPARK_LOCAL_IP if you need to bind to another address\n",
      "WARNING: An illegal reflective access operation has occurred\n",
      "WARNING: Illegal reflective access by org.apache.spark.unsafe.Platform (file:/home/veiga/.local/lib/python3.8/site-packages/pyspark/jars/spark-unsafe_2.12-3.2.1.jar) to constructor java.nio.DirectByteBuffer(long,int)\n",
      "WARNING: Please consider reporting this to the maintainers of org.apache.spark.unsafe.Platform\n",
      "WARNING: Use --illegal-access=warn to enable warnings of further illegal reflective access operations\n",
      "WARNING: All illegal access operations will be denied in a future release\n",
      "Using Spark's default log4j profile: org/apache/spark/log4j-defaults.properties\n",
      "Setting default log level to \"WARN\".\n",
      "To adjust logging level use sc.setLogLevel(newLevel). For SparkR, use setLogLevel(newLevel).\n",
      "22/06/14 12:49:52 WARN NativeCodeLoader: Unable to load native-hadoop library for your platform... using builtin-java classes where applicable\n"
     ]
    }
   ],
   "source": [
    "from pyspark.sql import SparkSession\n",
    "spark = SparkSession.builder.appName('C.10').getOrCreate()"
   ]
  },
  {
   "cell_type": "code",
   "execution_count": 59,
   "id": "50e351f2-c791-4684-a664-21875105c7ea",
   "metadata": {},
   "outputs": [],
   "source": [
    "airbnbDF = spark.createDataFrame(df, schema='''`neighborhood` STRING, `room_type` STRING, `bathrooms` FLOAT, `bedrooms` FLOAT, `price` STRING, \n",
    "                            `number_of_reviews` INT''')"
   ]
  },
  {
   "cell_type": "code",
   "execution_count": 62,
   "id": "96d6a086-2671-48bd-8614-446fe00c29e7",
   "metadata": {},
   "outputs": [
    {
     "name": "stdout",
     "output_type": "stream",
     "text": [
      "+--------------------+---------------+------------+-----------+--------+--------------------+\n",
      "|        neighborhood|      room_type|bathrooms_na|bedrooms_na|price_na|number_of_reviews_na|\n",
      "+--------------------+---------------+------------+-----------+--------+--------------------+\n",
      "|      Bernal Heights|Entire home/apt|         1.0|        2.0|     5.0|                 111|\n",
      "|Western Addition/...|Entire home/apt|         1.5|        2.0|     5.0|                  27|\n",
      "|Western Addition/...|Entire home/apt|         1.0|        2.0|     5.0|                  31|\n",
      "|    Mission District|   Private room|         1.0|        1.0|     9.0|                 647|\n",
      "|        Potrero Hill|   Private room|         1.0|        1.0|     5.0|                 453|\n",
      "|    Mission District|Entire home/apt|         1.0|        2.0|     5.0|                 320|\n",
      "|        Lower Haight|Entire home/apt|         1.0|        3.0|     7.0|                  37|\n",
      "|        Hayes Valley|Entire home/apt|         2.0|        3.0|     4.0|                  14|\n",
      "|        Union Square|Entire home/apt|         1.5|        1.0|     9.0|                  19|\n",
      "|         Cole Valley|Entire home/apt|         1.0|        2.0|     6.0|                  16|\n",
      "|    Mission District|Entire home/apt|         1.0|        1.0|     5.0|                 103|\n",
      "|    Mission District|Entire home/apt|         1.0|        0.0|     8.0|                 227|\n",
      "|            Nob Hill|Entire home/apt|         1.0|        1.0|     5.0|                 119|\n",
      "|          The Castro|Entire home/apt|         1.0|        1.0|     5.0|                 353|\n",
      "|        Potrero Hill|   Private room|         1.0|        1.0|     5.0|                 272|\n",
      "|Western Addition/...|Entire home/apt|         1.0|        1.0|     5.0|                 281|\n",
      "|        Potrero Hill|   Private room|         1.0|        0.0|     5.0|                 298|\n",
      "|          The Castro|Entire home/apt|         1.0|        1.0|     5.0|                 129|\n",
      "|    Mission District|   Private room|         1.0|        1.0|     9.0|                  25|\n",
      "|   Richmond District|Entire home/apt|         1.0|        1.0|     5.0|                  37|\n",
      "+--------------------+---------------+------------+-----------+--------+--------------------+\n",
      "only showing top 20 rows\n",
      "\n"
     ]
    }
   ],
   "source": [
    "from pyspark.ml.feature import Imputer\n",
    "import pyspark.sql.functions as F\n",
    "\n",
    "num_cols = ['bathrooms', 'bedrooms', 'price', 'number_of_reviews']\n",
    "imputer = Imputer(strategy='median', inputCols=num_cols, outputCols=[f'{col}_na' for col in num_cols])\n",
    "airbnbDF = (airbnbDF.withColumn('price', F.substring('price', 2, 10))\n",
    "        .withColumn('price',F.col('price').cast('float'))\n",
    "        .where('price>0'))\n",
    "\n",
    "airbnbDF = imputer.fit(airbnbDF).transform(airbnbDF)\n",
    "airbnbDF = airbnbDF.drop('bathrooms', 'bedrooms', 'price', 'number_of_reviews')\n",
    "airbnbDF.show()"
   ]
  },
  {
   "cell_type": "markdown",
   "id": "cecd2507-0d32-42fe-9053-e59ac82fb1f1",
   "metadata": {},
   "source": [
    "<p style='color:red'> Creating Training and Test Data Sets"
   ]
  }
 ],
 "metadata": {
  "kernelspec": {
   "display_name": "Python 3 (ipykernel)",
   "language": "python",
   "name": "python3"
  },
  "language_info": {
   "codemirror_mode": {
    "name": "ipython",
    "version": 3
   },
   "file_extension": ".py",
   "mimetype": "text/x-python",
   "name": "python",
   "nbconvert_exporter": "python",
   "pygments_lexer": "ipython3",
   "version": "3.8.10"
  }
 },
 "nbformat": 4,
 "nbformat_minor": 5
}
